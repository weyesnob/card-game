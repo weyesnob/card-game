{
 "cells": [
  {
   "cell_type": "code",
   "execution_count": 1,
   "metadata": {},
   "outputs": [],
   "source": [
    "from Card import Card\n",
    "from MonsterCard import MonsterCard\n",
    "from SpecialyCard import SpecialyCard\n",
    "from Deck import Deck\n",
    "from Player import Player\n",
    "from Field import Field\n",
    "from Game import Game"
   ]
  },
  {
   "cell_type": "code",
   "execution_count": 2,
   "metadata": {},
   "outputs": [
    {
     "ename": "TypeError",
     "evalue": "Player.__init__() missing 2 required positional arguments: 'points' and 'deck'",
     "output_type": "error",
     "traceback": [
      "\u001b[1;31m---------------------------------------------------------------------------\u001b[0m",
      "\u001b[1;31mTypeError\u001b[0m                                 Traceback (most recent call last)",
      "\u001b[1;32mUntitled-1.ipynb Cell 2'\u001b[0m in \u001b[0;36m<cell line: 1>\u001b[1;34m()\u001b[0m\n\u001b[1;32m----> <a href='vscode-notebook-cell:Untitled-1.ipynb?jupyter-notebook#ch0000001untitled?line=0'>1</a>\u001b[0m p1 \u001b[39m=\u001b[39m Player()\n\u001b[0;32m      <a href='vscode-notebook-cell:Untitled-1.ipynb?jupyter-notebook#ch0000001untitled?line=1'>2</a>\u001b[0m p2 \u001b[39m=\u001b[39m Player()\n",
      "\u001b[1;31mTypeError\u001b[0m: Player.__init__() missing 2 required positional arguments: 'points' and 'deck'"
     ]
    }
   ],
   "source": []
  }
 ],
 "metadata": {
  "interpreter": {
   "hash": "67d6c3562f3ef16484a6704625aef2a9061983b2ed1058089c58aa677b386cc4"
  },
  "kernelspec": {
   "display_name": "Python 3.8.5 ('cardgame')",
   "language": "python",
   "name": "python3"
  },
  "language_info": {
   "codemirror_mode": {
    "name": "ipython",
    "version": 3
   },
   "file_extension": ".py",
   "mimetype": "text/x-python",
   "name": "python",
   "nbconvert_exporter": "python",
   "pygments_lexer": "ipython3",
   "version": "3.8.5"
  },
  "orig_nbformat": 4
 },
 "nbformat": 4,
 "nbformat_minor": 2
}
